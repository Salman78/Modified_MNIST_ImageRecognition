{
 "cells": [
  {
   "cell_type": "code",
   "execution_count": 1,
   "metadata": {},
   "outputs": [
    {
     "data": {
      "text/plain": [
       "(40000, 64, 64)"
      ]
     },
     "execution_count": 1,
     "metadata": {},
     "output_type": "execute_result"
    }
   ],
   "source": [
    "import pickle\n",
    "import numpy as np \n",
    "import pandas as pd \n",
    "from sklearn.preprocessing import MinMaxScaler\n",
    "\n",
    "train_images = pd.read_pickle('/Users/Tausal21/Desktop/comp_551/mini_project3/train_images.pkl')\n",
    "train_labels = pd.read_csv('/Users/Tausal21/Desktop/comp_551/mini_project3/train_labels.csv')\n",
    "\n",
    "train_images.shape"
   ]
  },
  {
   "cell_type": "code",
   "execution_count": 2,
   "metadata": {},
   "outputs": [
    {
     "name": "stdout",
     "output_type": "stream",
     "text": [
      "[[ 28.  29.  27. ...  35.  40.  44.]\n",
      " [ 30.  28.  28. ...  36.  37.  38.]\n",
      " [ 32.  31.  28. ...  41.  47.  37.]\n",
      " ...\n",
      " [ 32.  46.  61. ...  36.  36.  39.]\n",
      " [ 55.  35.  46. ...  30.  50. 144.]\n",
      " [ 63.  55.  46. ...  39.  73. 235.]]\n",
      "(64, 64)\n"
     ]
    }
   ],
   "source": [
    "print(train_images[10])\n",
    "print(train_images[10].shape)"
   ]
  },
  {
   "cell_type": "code",
   "execution_count": 3,
   "metadata": {},
   "outputs": [
    {
     "name": "stdout",
     "output_type": "stream",
     "text": [
      "[[ 28.  29.  27. ...  35.  40.  44.]\n",
      " [ 30.  28.  28. ...  36.  37.  38.]\n",
      " [ 32.  31.  28. ...  41.  47.  37.]\n",
      " ...\n",
      " [ 32.  46.  61. ...  36.  36.  39.]\n",
      " [ 55.  35.  46. ...  30.  50. 144.]\n",
      " [ 63.  55.  46. ...  39.  73. 235.]]\n"
     ]
    }
   ],
   "source": [
    "train_images_numpy = np.array(train_images)\n",
    "train_labels_numpy = np.array(train_labels)\n",
    "\n",
    "print(train_images_numpy[10])"
   ]
  },
  {
   "cell_type": "code",
   "execution_count": 4,
   "metadata": {},
   "outputs": [
    {
     "name": "stdout",
     "output_type": "stream",
     "text": [
      "[[[ 63.  61.  58. ...  76.  72.  70.]\n",
      "  [ 65.  58.  55. ...  71.  68.  68.]\n",
      "  [ 60.  61.  60. ...  92.  80.  69.]\n",
      "  ...\n",
      "  [133. 127. 130. ...  95.  81.  71.]\n",
      "  [119. 113. 104. ...  94.  79.  66.]\n",
      "  [ 88.  94.  85. ... 108. 107. 101.]]\n",
      "\n",
      " [[ 94.  18.  57. ... 136.   8.  61.]\n",
      "  [164. 137.  80. ... 158.  41.   0.]\n",
      "  [159. 164. 159. ... 175.  84.   1.]\n",
      "  ...\n",
      "  [176. 129. 107. ...  39.  72.  84.]\n",
      "  [147.  72. 137. ...   4.  51. 138.]\n",
      "  [ 15.  51. 193. ...  50. 127. 179.]]\n",
      "\n",
      " [[ 82.  90.  95. ...  83.  74.  60.]\n",
      "  [ 85.  84.  86. ...  48.  43.  35.]\n",
      "  [ 83.  83.  86. ...  51.  49.  44.]\n",
      "  ...\n",
      "  [ 61.  59.  62. ...  87.  93. 108.]\n",
      "  [ 56.  60.  66. ...  88.  93.  97.]\n",
      "  [ 64.  69.  76. ...  84.  85.  78.]]\n",
      "\n",
      " ...\n",
      "\n",
      " [[  0. 121. 200. ...  43. 156. 191.]\n",
      "  [ 40. 109. 208. ...  60. 101. 163.]\n",
      "  [ 44.  32. 175. ... 134.  80.  93.]\n",
      "  ...\n",
      "  [  8. 144. 220. ... 150. 103.   2.]\n",
      "  [  3. 144. 201. ... 148. 129.   4.]\n",
      "  [  0. 144. 216. ... 154.  89.  70.]]\n",
      "\n",
      " [[ 93.  92.  93. ...  77.  75.  74.]\n",
      "  [ 94.  98. 101. ... 108. 104.  96.]\n",
      "  [113.  95.  92. ... 113. 113. 111.]\n",
      "  ...\n",
      "  [ 86. 106. 108. ...  91.  89.  81.]\n",
      "  [ 69.  87.  92. ...  67.  68.  63.]\n",
      "  [ 65.  65.  71. ...  46.  52.  56.]]\n",
      "\n",
      " [[162. 177. 160. ... 147.  99.  94.]\n",
      "  [ 81. 167. 193. ... 132.  70.  77.]\n",
      "  [  0.  46. 104. ... 151.  67.  26.]\n",
      "  ...\n",
      "  [102. 131. 142. ... 137. 125.  76.]\n",
      "  [  1.  20.  73. ... 136. 148. 117.]\n",
      "  [  0.  19.  76. ...  91.  62.  94.]]]\n"
     ]
    }
   ],
   "source": [
    "\n",
    "print(train_images_numpy)"
   ]
  },
  {
   "cell_type": "code",
   "execution_count": 5,
   "metadata": {},
   "outputs": [
    {
     "ename": "NameError",
     "evalue": "name 'no_of_examples' is not defined",
     "output_type": "error",
     "traceback": [
      "\u001b[0;31m---------------------------------------------------------------------------\u001b[0m",
      "\u001b[0;31mNameError\u001b[0m                                 Traceback (most recent call last)",
      "\u001b[0;32m<ipython-input-5-d144f3e028d2>\u001b[0m in \u001b[0;36m<module>\u001b[0;34m()\u001b[0m\n\u001b[1;32m      6\u001b[0m \u001b[0;32mfor\u001b[0m \u001b[0mx\u001b[0m \u001b[0;32min\u001b[0m \u001b[0mrange\u001b[0m\u001b[0;34m(\u001b[0m\u001b[0mtrain_images_dim\u001b[0m\u001b[0;34m[\u001b[0m\u001b[0;36m0\u001b[0m\u001b[0;34m]\u001b[0m\u001b[0;34m)\u001b[0m\u001b[0;34m:\u001b[0m\u001b[0;34m\u001b[0m\u001b[0m\n\u001b[1;32m      7\u001b[0m     \u001b[0mscaled_train_images\u001b[0m \u001b[0;34m=\u001b[0m \u001b[0mscaler\u001b[0m\u001b[0;34m.\u001b[0m\u001b[0mfit_transform\u001b[0m\u001b[0;34m(\u001b[0m\u001b[0mtrain_images_numpy\u001b[0m\u001b[0;34m[\u001b[0m\u001b[0mx\u001b[0m\u001b[0;34m]\u001b[0m\u001b[0;34m)\u001b[0m\u001b[0;34m\u001b[0m\u001b[0m\n\u001b[0;32m----> 8\u001b[0;31m \u001b[0;32mfor\u001b[0m \u001b[0mx\u001b[0m \u001b[0;32min\u001b[0m \u001b[0mrange\u001b[0m\u001b[0;34m(\u001b[0m\u001b[0mno_of_examples\u001b[0m\u001b[0;34m)\u001b[0m\u001b[0;34m:\u001b[0m\u001b[0;34m\u001b[0m\u001b[0m\n\u001b[0m\u001b[1;32m      9\u001b[0m     \u001b[0;32mfor\u001b[0m \u001b[0mm\u001b[0m \u001b[0;32min\u001b[0m \u001b[0mrange\u001b[0m\u001b[0;34m(\u001b[0m\u001b[0mtrain_images_dim\u001b[0m\u001b[0;34m[\u001b[0m\u001b[0;36m1\u001b[0m\u001b[0;34m]\u001b[0m\u001b[0;34m)\u001b[0m\u001b[0;34m:\u001b[0m\u001b[0;34m\u001b[0m\u001b[0m\n\u001b[1;32m     10\u001b[0m         \u001b[0;32mfor\u001b[0m \u001b[0mn\u001b[0m \u001b[0;32min\u001b[0m \u001b[0mrange\u001b[0m\u001b[0;34m(\u001b[0m\u001b[0mtrain_images_dim\u001b[0m\u001b[0;34m[\u001b[0m\u001b[0;36m2\u001b[0m\u001b[0;34m]\u001b[0m\u001b[0;34m)\u001b[0m\u001b[0;34m:\u001b[0m\u001b[0;34m\u001b[0m\u001b[0m\n",
      "\u001b[0;31mNameError\u001b[0m: name 'no_of_examples' is not defined"
     ]
    }
   ],
   "source": [
    "\n",
    "scaler = MinMaxScaler(feature_range=(0,1))\n",
    "\n",
    "train_images_dim = train_images_numpy.shape\n",
    "\n",
    "for x in range(train_images_dim[0]):\n",
    "    scaled_train_images = scaler.fit_transform(train_images_numpy[x])\n",
    "for x in range(train_images_dim[0]):\n",
    "    for m in range(train_images_dim[1]):\n",
    "        for n in range(train_images_dim[2]):\n",
    "            train_images_numpy[x].fill(scaled_train_images[m][n])\n",
    "print(train_images_numpy)\n",
    "\n"
   ]
  },
  {
   "cell_type": "code",
   "execution_count": null,
   "metadata": {},
   "outputs": [],
   "source": []
  }
 ],
 "metadata": {
  "kernelspec": {
   "display_name": "Python 3",
   "language": "python",
   "name": "python3"
  },
  "language_info": {
   "codemirror_mode": {
    "name": "ipython",
    "version": 3
   },
   "file_extension": ".py",
   "mimetype": "text/x-python",
   "name": "python",
   "nbconvert_exporter": "python",
   "pygments_lexer": "ipython3",
   "version": "3.6.5"
  }
 },
 "nbformat": 4,
 "nbformat_minor": 2
}
