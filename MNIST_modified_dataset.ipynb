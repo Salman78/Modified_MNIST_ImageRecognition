{
 "cells": [
  {
   "cell_type": "code",
   "execution_count": 96,
   "metadata": {},
   "outputs": [
    {
     "name": "stdout",
     "output_type": "stream",
     "text": [
      "(40000,)\n",
      "(40000, 64, 64)\n",
      "(40000, 2)\n",
      "(40000, 64, 64, 1)\n"
     ]
    }
   ],
   "source": [
    "import pickle\n",
    "import numpy as np \n",
    "import pandas as pd \n",
    "from sklearn.preprocessing import MinMaxScaler\n",
    "\n",
    "import keras\n",
    "from keras import backend as K\n",
    "from keras.models import Sequential\n",
    "from keras.layers import Activation\n",
    "from keras.layers import Dense, Flatten, Dropout, Conv2D, MaxPool2D, AvgPool2D\n",
    "from keras.optimizers import Adam, RMSprop\n",
    "from keras.preprocessing.image import ImageDataGenerator\n",
    "from keras.metrics import categorical_crossentropy\n",
    "from keras.layers.normalization import BatchNormalization\n",
    "from keras.layers.convolutional import *\n",
    "from keras.callbacks import ReduceLROnPlateau\n",
    "from keras.utils import normalize\n",
    "from keras.utils import to_categorical\n",
    "from matplotlib import pyplot as plt\n",
    "from sklearn.model_selection import train_test_split\n",
    "from sklearn.metrics import confusion_matrix\n",
    "import seaborn as sns\n",
    "import itertools\n",
    "%matplotlib inline\n",
    "\n",
    "train_images = pd.read_pickle('/Users/Tausal21/Desktop/comp_551/mini_project3/train_images.pkl')\n",
    "train_labels = pd.read_csv('/Users/Tausal21/Desktop/comp_551/mini_project3/train_labels.csv')\n",
    "\n",
    "train_labels_only = []\n",
    "train_labels_only = train_labels['Category'].values.tolist()\n",
    "train_labels_only = np.array(train_labels_only)\n",
    "#train_labels_only = train_labels.drop(labels = [\"Id\"],axis = 1)\n",
    "#train_labels_only = train_labels.drop(columns = [\"Id\"])\n",
    "print(train_labels_only.shape)\n",
    "\n",
    "train_images = train_images/255.0\n",
    "print(train_images.shape)\n",
    "\n",
    "train_images = np.array(train_images)\n",
    "train_labels_only = to_categorical(train_labels_only, num_classes = 10)\n",
    "\n",
    "print(train_labels.shape)\n",
    "\n",
    "train_images = train_images.reshape(-1,64,64,1)\n",
    "print(train_images.shape)\n"
   ]
  },
  {
   "cell_type": "code",
   "execution_count": 97,
   "metadata": {},
   "outputs": [],
   "source": [
    "#plt.title('Label: {}'.format(train_labels.iloc[16]['Category']))\n",
    "#plt.imshow(train_images[16])"
   ]
  },
  {
   "cell_type": "code",
   "execution_count": null,
   "metadata": {},
   "outputs": [],
   "source": []
  },
  {
   "cell_type": "code",
   "execution_count": 98,
   "metadata": {},
   "outputs": [
    {
     "name": "stdout",
     "output_type": "stream",
     "text": [
      "(30000, 64, 64, 1)\n",
      "(10000, 64, 64, 1)\n",
      "(30000, 10)\n",
      "(10000, 10)\n"
     ]
    }
   ],
   "source": [
    "X_train, X_val, Y_train, Y_val = train_test_split(train_images, train_labels_only, test_size = 0.25, random_state=2)\n",
    "print(X_train.shape)\n",
    "print(X_val.shape)\n",
    "print(Y_train.shape)\n",
    "print(Y_val.shape)"
   ]
  },
  {
   "cell_type": "code",
   "execution_count": 99,
   "metadata": {},
   "outputs": [
    {
     "data": {
      "image/png": "[encoded data removed]",
      "text/plain": [
       "<Figure size 432x288 with 1 Axes>"
      ]
     },
     "metadata": {},
     "output_type": "display_data"
    }
   ],
   "source": [
    "sns.set(style='white', context='notebook', palette='deep')\n",
    "g = plt.imshow(X_train[0][:,:,0])"
   ]
  },
  {
   "cell_type": "code",
   "execution_count": 100,
   "metadata": {},
   "outputs": [
    {
     "name": "stdout",
     "output_type": "stream",
     "text": [
      "Train on 30000 samples, validate on 10000 samples\n",
      "Epoch 1/25\n",
      " - 3973s - loss: 2.3043 - acc: 0.1065 - val_loss: 2.2987 - val_acc: 0.1152\n",
      "Epoch 2/25\n",
      " - 197s - loss: 2.2766 - acc: 0.1470 - val_loss: 2.2451 - val_acc: 0.1759\n",
      "Epoch 3/25\n",
      " - 182s - loss: 2.1870 - acc: 0.2125 - val_loss: 2.1544 - val_acc: 0.2272\n",
      "Epoch 4/25\n",
      " - 180s - loss: 2.0643 - acc: 0.2772 - val_loss: 2.0835 - val_acc: 0.2651\n",
      "Epoch 5/25\n",
      " - 224s - loss: 1.8983 - acc: 0.3541 - val_loss: 1.9666 - val_acc: 0.3205\n",
      "Epoch 6/25\n",
      " - 205s - loss: 1.7271 - acc: 0.4187 - val_loss: 1.8674 - val_acc: 0.3514\n",
      "Epoch 7/25\n",
      " - 189s - loss: 1.5491 - acc: 0.4838 - val_loss: 1.8142 - val_acc: 0.3722\n",
      "Epoch 8/25\n",
      " - 190s - loss: 1.3872 - acc: 0.5476 - val_loss: 1.7633 - val_acc: 0.3931\n",
      "Epoch 9/25\n",
      " - 209s - loss: 1.1970 - acc: 0.6172 - val_loss: 1.7261 - val_acc: 0.4134\n",
      "Epoch 10/25\n",
      " - 213s - loss: 1.0140 - acc: 0.6852 - val_loss: 1.6902 - val_acc: 0.4373\n",
      "Epoch 11/25\n",
      " - 207s - loss: 0.8544 - acc: 0.7460 - val_loss: 1.6848 - val_acc: 0.4415\n",
      "Epoch 12/25\n",
      " - 204s - loss: 0.7034 - acc: 0.7973 - val_loss: 1.7809 - val_acc: 0.4270\n",
      "Epoch 13/25\n",
      " - 199s - loss: 0.5715 - acc: 0.8456 - val_loss: 1.7792 - val_acc: 0.4403\n",
      "Epoch 14/25\n",
      " - 185s - loss: 0.4404 - acc: 0.8923 - val_loss: 1.7999 - val_acc: 0.4526\n",
      "Epoch 15/25\n",
      " - 185s - loss: 0.3389 - acc: 0.9254 - val_loss: 1.8650 - val_acc: 0.4600\n",
      "Epoch 16/25\n",
      " - 192s - loss: 0.2681 - acc: 0.9444 - val_loss: 1.9537 - val_acc: 0.4513\n",
      "Epoch 17/25\n",
      " - 201s - loss: 0.2049 - acc: 0.9635 - val_loss: 2.0121 - val_acc: 0.4549\n",
      "Epoch 18/25\n",
      " - 179s - loss: 0.1522 - acc: 0.9780 - val_loss: 2.0750 - val_acc: 0.4524\n",
      "Epoch 19/25\n",
      " - 284s - loss: 0.1147 - acc: 0.9865 - val_loss: 2.1897 - val_acc: 0.4506\n",
      "Epoch 20/25\n",
      " - 177s - loss: 0.0909 - acc: 0.9904 - val_loss: 2.2479 - val_acc: 0.4509\n",
      "Epoch 21/25\n",
      " - 176s - loss: 0.0710 - acc: 0.9946 - val_loss: 2.3387 - val_acc: 0.4481\n",
      "Epoch 22/25\n",
      " - 187s - loss: 0.0536 - acc: 0.9967 - val_loss: 2.3578 - val_acc: 0.4552\n",
      "Epoch 23/25\n",
      " - 219s - loss: 0.0414 - acc: 0.9982 - val_loss: 2.4358 - val_acc: 0.4511\n",
      "Epoch 24/25\n",
      " - 186s - loss: 0.0324 - acc: 0.9990 - val_loss: 2.5173 - val_acc: 0.4437\n",
      "Epoch 25/25\n",
      " - 174s - loss: 0.0250 - acc: 0.9993 - val_loss: 2.5512 - val_acc: 0.4514\n"
     ]
    },
    {
     "data": {
      "text/plain": [
       "<keras.callbacks.History at 0x1ad01fd320>"
      ]
     },
     "execution_count": 100,
     "metadata": {},
     "output_type": "execute_result"
    }
   ],
   "source": [
    "'''\n",
    "train_batches = ImageDataGenerator(\n",
    "    data_format=\"channels_last\",\n",
    "    #featurewise_center=True,\n",
    "    #featurewise_std_normalization=True,\n",
    "    rotation_range=20,\n",
    "    width_shift_range=0.2,\n",
    "    height_shift_range=0.2,\n",
    "    horizontal_flip=True).flow(X_train, Y_train, batch_size=30, shuffle=True)\n",
    "validation_batches = ImageDataGenerator(\n",
    "    data_format=\"channels_last\",\n",
    "    #featurewise_center=True,\n",
    "    #featurewise_std_normalization=True,\n",
    "    rotation_range=20,\n",
    "    width_shift_range=0.2,\n",
    "    height_shift_range=0.2,\n",
    "    horizontal_flip=True).flow(X_val, Y_val, batch_size=10, shuffle=True)\n",
    "'''\n",
    "'''\n",
    "model = Sequential([\n",
    "    Conv2D(8, (3,3), activation='relu', data_format=\"channels_last\", input_shape=(64,64,1)),\n",
    "    Flatten(),\n",
    "    Dense(10, activation='softmax')\n",
    "])\n",
    "'''\n",
    "\n",
    "model = Sequential()\n",
    "model.add(Conv2D(32, kernel_size=(5, 5), strides=(1, 1),\n",
    "                 activation='relu',\n",
    "                 input_shape=(64,64,1)))\n",
    "model.add(MaxPooling2D(pool_size=(2, 2), strides=(2, 2)))\n",
    "model.add(Conv2D(64, (5, 5), activation='relu'))\n",
    "model.add(MaxPooling2D(pool_size=(2, 2)))\n",
    "model.add(Flatten())\n",
    "model.add(Dense(1000, activation='relu'))\n",
    "model.add(Dense(10, activation='softmax'))\n",
    "\n",
    "\n",
    "model.compile(Adam(lr=0.0005), loss='categorical_crossentropy', metrics=['accuracy'])\n",
    "\n",
    "#model.fit_generator(train_batches, steps_per_epoch=10, validation_data=validation_batches, validation_steps=10, epochs=25, verbose=2)\n",
    "model.fit(X_train, Y_train,\n",
    "          batch_size=1000,\n",
    "          epochs=25,\n",
    "          verbose=2,\n",
    "          validation_data=(X_val, Y_val))\n"
   ]
  },
  {
   "cell_type": "code",
   "execution_count": null,
   "metadata": {},
   "outputs": [],
   "source": []
  },
  {
   "cell_type": "code",
   "execution_count": 101,
   "metadata": {},
   "outputs": [
    {
     "data": {
      "text/plain": [
       "\"\\nmodel = Sequential()\\nmodel.add(Flatten())\\nmodel.add(Dense(128, activation='relu'))\\nmodel.add(Dense(128, activation='relu'))\\nmodel.add(Dense(10, activation='softmax'))\\n\\nmodel.compile(Adam(lr=0.0005), loss='sparse_categorical_crossentropy', metrics=['accuracy'])\\nmodel.fit(X_train, Y_train, epochs=25)\\n\""
      ]
     },
     "execution_count": 101,
     "metadata": {},
     "output_type": "execute_result"
    }
   ],
   "source": [
    "'''\n",
    "model = Sequential()\n",
    "model.add(Flatten())\n",
    "model.add(Dense(128, activation='relu'))\n",
    "model.add(Dense(128, activation='relu'))\n",
    "model.add(Dense(10, activation='softmax'))\n",
    "\n",
    "model.compile(Adam(lr=0.0005), loss='sparse_categorical_crossentropy', metrics=['accuracy'])\n",
    "model.fit(X_train, Y_train, epochs=25)\n",
    "'''"
   ]
  },
  {
   "cell_type": "code",
   "execution_count": 102,
   "metadata": {},
   "outputs": [
    {
     "data": {
      "text/plain": [
       "'\\nmodel = Sequential()\\n\\nmodel.add(Conv2D(filters = 32, kernel_size = (5,5),padding = \\'Same\\', \\n                 activation =\\'relu\\', input_shape = (64,64,1)))\\nmodel.add(Conv2D(filters = 32, kernel_size = (5,5),padding = \\'Same\\', \\n                 activation =\\'relu\\'))\\nmodel.add(AvgPool2D(pool_size=(2,2)))\\nmodel.add(Dropout(0.25))\\nmodel.add(Conv2D(filters = 64, kernel_size = (3,3),padding = \\'Same\\', \\n                 activation =\\'relu\\'))\\nmodel.add(AvgPool2D(pool_size=(2,2)))\\nmodel.add(Conv2D(filters = 64, kernel_size = (3,3),padding = \\'Same\\', \\n                 activation =\\'relu\\'))\\nmodel.add(AvgPool2D(pool_size=(2,2)))\\nmodel.add(Conv2D(filters = 64, kernel_size = (3,3),padding = \\'Same\\', \\n                 activation =\\'relu\\'))\\nmodel.add(AvgPool2D(pool_size=(2,2), strides=(2,2)))\\nmodel.add(Dropout(0.25))\\n\\nmodel.add(Flatten())\\nmodel.add(Dense(256, activation = \"relu\"))\\nmodel.add(Dropout(0.5))\\nmodel.add(Dense(10, activation = \"softmax\"))\\n\\noptimizer = RMSprop(lr=0.001, rho=0.9, epsilon=1e-08, decay=0.0)\\n\\nmodel.compile(optimizer = optimizer , loss = \"categorical_crossentropy\", metrics=[\"accuracy\"])\\n\\nlearning_rate_reduction = ReduceLROnPlateau(monitor=\\'val_acc\\', \\n                                            patience=3, \\n                                            verbose=1, \\n                                            factor=0.5, \\n                                            min_lr=0.00001)\\n\\nepochs = 30\\nbatch_size = 1000\\n\\nhistory = model.fit(X_train, Y_train, batch_size = batch_size, epochs = epochs, \\n          validation_data = (X_val, Y_val),callbacks=[learning_rate_reduction])\\n'"
      ]
     },
     "execution_count": 102,
     "metadata": {},
     "output_type": "execute_result"
    }
   ],
   "source": [
    "'''\n",
    "model = Sequential()\n",
    "\n",
    "model.add(Conv2D(filters = 32, kernel_size = (5,5),padding = 'Same', \n",
    "                 activation ='relu', input_shape = (64,64,1)))\n",
    "model.add(Conv2D(filters = 32, kernel_size = (5,5),padding = 'Same', \n",
    "                 activation ='relu'))\n",
    "model.add(AvgPool2D(pool_size=(2,2)))\n",
    "model.add(Dropout(0.25))\n",
    "model.add(Conv2D(filters = 64, kernel_size = (3,3),padding = 'Same', \n",
    "                 activation ='relu'))\n",
    "model.add(AvgPool2D(pool_size=(2,2)))\n",
    "model.add(Conv2D(filters = 64, kernel_size = (3,3),padding = 'Same', \n",
    "                 activation ='relu'))\n",
    "model.add(AvgPool2D(pool_size=(2,2)))\n",
    "model.add(Conv2D(filters = 64, kernel_size = (3,3),padding = 'Same', \n",
    "                 activation ='relu'))\n",
    "model.add(AvgPool2D(pool_size=(2,2), strides=(2,2)))\n",
    "model.add(Dropout(0.25))\n",
    "\n",
    "model.add(Flatten())\n",
    "model.add(Dense(256, activation = \"relu\"))\n",
    "model.add(Dropout(0.5))\n",
    "model.add(Dense(10, activation = \"softmax\"))\n",
    "\n",
    "optimizer = RMSprop(lr=0.001, rho=0.9, epsilon=1e-08, decay=0.0)\n",
    "\n",
    "model.compile(optimizer = optimizer , loss = \"categorical_crossentropy\", metrics=[\"accuracy\"])\n",
    "\n",
    "learning_rate_reduction = ReduceLROnPlateau(monitor='val_acc', \n",
    "                                            patience=3, \n",
    "                                            verbose=1, \n",
    "                                            factor=0.5, \n",
    "                                            min_lr=0.00001)\n",
    "\n",
    "epochs = 30\n",
    "batch_size = 1000\n",
    "\n",
    "history = model.fit(X_train, Y_train, batch_size = batch_size, epochs = epochs, \n",
    "          validation_data = (X_val, Y_val),callbacks=[learning_rate_reduction])\n",
    "'''"
   ]
  },
  {
   "cell_type": "code",
   "execution_count": null,
   "metadata": {},
   "outputs": [],
   "source": []
  },
  {
   "cell_type": "code",
   "execution_count": null,
   "metadata": {},
   "outputs": [],
   "source": []
  },
  {
   "cell_type": "code",
   "execution_count": null,
   "metadata": {},
   "outputs": [],
   "source": []
  },
  {
   "cell_type": "code",
   "execution_count": null,
   "metadata": {},
   "outputs": [],
   "source": []
  },
  {
   "cell_type": "code",
   "execution_count": null,
   "metadata": {},
   "outputs": [],
   "source": []
  },
  {
   "cell_type": "code",
   "execution_count": null,
   "metadata": {},
   "outputs": [],
   "source": []
  },
  {
   "cell_type": "code",
   "execution_count": null,
   "metadata": {},
   "outputs": [],
   "source": []
  },
  {
   "cell_type": "code",
   "execution_count": null,
   "metadata": {},
   "outputs": [],
   "source": []
  }
 ],
 "metadata": {
  "kernelspec": {
   "display_name": "Python 3",
   "language": "python",
   "name": "python3"
  },
  "language_info": {
   "codemirror_mode": {
    "name": "ipython",
    "version": 3
   },
   "file_extension": ".py",
   "mimetype": "text/x-python",
   "name": "python",
   "nbconvert_exporter": "python",
   "pygments_lexer": "ipython3",
   "version": "3.6.7"
  }
 },
 "nbformat": 4,
 "nbformat_minor": 2
}
